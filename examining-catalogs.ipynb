{
 "cells": [
  {
   "cell_type": "code",
   "execution_count": 23,
   "id": "93fcd68c",
   "metadata": {},
   "outputs": [],
   "source": [
    "import matplotlib.pyplot as plt\n",
    "import numpy as np\n",
    "from astropy.table import Table, vstack\n",
    "import glob"
   ]
  },
  {
   "cell_type": "code",
   "execution_count": 9,
   "id": "5c5027b8",
   "metadata": {},
   "outputs": [
    {
     "data": {
      "text/plain": [
       "20"
      ]
     },
     "execution_count": 9,
     "metadata": {},
     "output_type": "execute_result"
    }
   ],
   "source": [
    "catalog_paths = glob.glob('/pscratch/sd/c/clamman/abacus/halo_selections/halo_selection_ph000_z0.80_*')\n",
    "len(catalog_paths)"
   ]
  },
  {
   "cell_type": "code",
   "execution_count": 24,
   "id": "e76cfb77",
   "metadata": {},
   "outputs": [],
   "source": [
    "full_cat = []\n",
    "for path in catalog_paths:\n",
    "    sample = Table.read(path)\n",
    "    sample.keep_columns(['RA', 'DEC', 'Z_noRSD', 'Z_withRSD', 'ap_sum'])\n",
    "    full_cat.append(sample)\n",
    "full_cat = vstack(full_cat)"
   ]
  },
  {
   "cell_type": "code",
   "execution_count": 26,
   "id": "b9cba871",
   "metadata": {},
   "outputs": [],
   "source": [
    "full_cat.write('/global/cfs/cdirs/desi/users/clamman/abacus_ia_mocks/aperture-selection/abacus_aperture_est_ph000_z0.80.fits', overwrite=True)"
   ]
  },
  {
   "cell_type": "code",
   "execution_count": 28,
   "id": "05135077",
   "metadata": {},
   "outputs": [],
   "source": []
  }
 ],
 "metadata": {
  "kernelspec": {
   "display_name": "base",
   "language": "python",
   "name": "python3"
  },
  "language_info": {
   "codemirror_mode": {
    "name": "ipython",
    "version": 3
   },
   "file_extension": ".py",
   "mimetype": "text/x-python",
   "name": "python",
   "nbconvert_exporter": "python",
   "pygments_lexer": "ipython3",
   "version": "3.10.14"
  }
 },
 "nbformat": 4,
 "nbformat_minor": 5
}
